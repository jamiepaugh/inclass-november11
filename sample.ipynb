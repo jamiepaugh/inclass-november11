{
 "cells": [
  {
   "metadata": {},
   "cell_type": "markdown",
   "source": [
    "# Starting Information\n",
    "Number of sides per die = 6  \n",
    "Number of die per roll = 3  \n",
    "Total combinations = $ 6^3 = 216 $"
   ],
   "id": "c4414759f808b0e3"
  },
  {
   "metadata": {},
   "cell_type": "code",
   "source": [
    "# List all combinations of 3 six-sided dice rolls\n",
    "combinations = []\n",
    "count_combinations = 0\n",
    "\n",
    "for die1 in range(1, 7):\n",
    "    for die2 in range(1, 7):\n",
    "        for die3 in range(1, 7):\n",
    "            combinations.append((die1, die2, die3))\n",
    "            count_combinations += 1\n",
    "\n",
    "for combination in combinations:\n",
    "    print(combination)\n",
    "    \n",
    "print(f\"There are {count_combinations} combinations\")"
   ],
   "id": "fbc121e30a2defb3",
   "outputs": [],
   "execution_count": null
  },
  {
   "metadata": {},
   "cell_type": "markdown",
   "source": [
    "\n",
    "\n",
    "# Determine Probability of Triples\n",
    "There is only one valid combination for a roll to be considered a triple.  \n",
    "Triples = [(x,x,x)]  \n",
    "\n",
    "Due to the specificity of triples, we can write this manually quite easily:  \n",
    "Triples = [(1,1,1), (2,2,2), (3,3,3), (4,4,4), (5,5,5), (6,6,6)]  \n",
    "$ \\therefore $ There is a $ \\frac{6}{216} $ probability of triples occurring"
   ],
   "id": "7c459bd3a51ba650"
  },
  {
   "metadata": {},
   "cell_type": "code",
   "source": [
    "# Find all combinations of triples\n",
    "same_value_triples = [combo for combo in combinations if len(set(combo)) == 1]\n",
    "count_triples = 0\n",
    "\n",
    "for triple in same_value_triples:\n",
    "    print(triple)\n",
    "    count_triples += 1\n",
    "\n",
    "print(f\"There are {count_triples} triples\")"
   ],
   "id": "acc4f661c4750035",
   "outputs": [],
   "execution_count": null
  },
  {
   "metadata": {},
   "cell_type": "markdown",
   "source": [
    "# Determine probability of doubles\n",
    "There are three valid combinations for doubles based on rolling three dice  \n",
    "Doubles = [(x,x,y), (x,y,x), (y,x,x)]  \n",
    "The criteria for a double are:  \n",
    "1. 'x' must occur twice\n",
    "2. 'x' cannot be equal to 'y'\n",
    "  \n",
    "On any roll, 'x' will have 6 possible values because 6-sided die are used. This means that 'y' can have only 5 possible values because 'x' cannot be equal to 'y'.  \n",
    "For each valid doubles combination there is $ 6 \\times 5 = 30 $ sub-combinations.\n",
    "\n",
    "$ \\therefore $ There is a $ \\frac{90}{216} $ probability of doubles occurring"
   ],
   "id": "298d995032f800d5"
  },
  {
   "metadata": {},
   "cell_type": "code",
   "source": [
    "doubles = [combo for combo in combinations if len(set(combo)) == 2]\n",
    "count_doubles = 0\n",
    "\n",
    "# Print the result\n",
    "for double in doubles:\n",
    "    print(double)\n",
    "    count_doubles += 1\n",
    "    \n",
    "print(f\"There are {count_doubles} doubles\")"
   ],
   "id": "3e92afff66ae9ae5",
   "outputs": [],
   "execution_count": null
  },
  {
   "metadata": {},
   "cell_type": "markdown",
   "source": [
    "# Determine probability of singles\n",
    "There are many valid combinations for singles; singles can also be described as being non-doubles and non-triples in this scenario.  \n",
    "Using that logic we can determine there is a $ \\frac{216-(90+6)}{216} = \\frac{120}{216} $ probability of singles occurring."
   ],
   "id": "366cfdbb4afa27be"
  },
  {
   "metadata": {},
   "cell_type": "code",
   "source": [
    "singles = [combo for combo in combinations if len(set(combo)) == 3]\n",
    "count_singles = 0\n",
    "\n",
    "# Print the result\n",
    "for single in singles:\n",
    "    print(single)\n",
    "    count_singles += 1\n",
    "    \n",
    "print(f\"There are {count_singles} singles\")"
   ],
   "id": "c14274f2a0526f63",
   "outputs": [],
   "execution_count": null
  },
  {
   "metadata": {},
   "cell_type": "markdown",
   "source": [
    "# Question 'd': $ P(x=2) $\n",
    "Using the logic from \"Determine probability of doubles\" we know there is a $ \\frac{90}{216} $ probability of doubles occurring\n",
    "\n",
    "# Question 'e': $ P(x=1) $ \n",
    " Using the logic from \"Determine probability of singles\" we know there is a $ \\frac{120}{216} $ probability of singles occurring.\n",
    " \n",
    "# Question 'f': $ P(y=10) $\n",
    "Using the following code we can quickly determine there are 27 combinations with a sum of 10."
   ],
   "id": "2b988a64b213378"
  },
  {
   "metadata": {
    "ExecuteTime": {
     "end_time": "2024-11-12T03:34:49.204975Z",
     "start_time": "2024-11-12T03:34:49.201517Z"
    }
   },
   "cell_type": "code",
   "source": [
    "# Find all combinations where the sum equals 10\n",
    "combinations_sum_10 = [combo for combo in combinations if sum(combo) == 10]\n",
    "count_combinations_sum_10 = 0\n",
    "\n",
    "for combo in combinations_sum_10:\n",
    "    print(combo)\n",
    "    count_combinations_sum_10 += 1\n",
    "    \n",
    "print(f\"There are {count_combinations_sum_10} combinations where the sum equals 10\")"
   ],
   "id": "f6af1e42c3d0a4ed",
   "outputs": [
    {
     "name": "stdout",
     "output_type": "stream",
     "text": [
      "(1, 3, 6)\n",
      "(1, 4, 5)\n",
      "(1, 5, 4)\n",
      "(1, 6, 3)\n",
      "(2, 2, 6)\n",
      "(2, 3, 5)\n",
      "(2, 4, 4)\n",
      "(2, 5, 3)\n",
      "(2, 6, 2)\n",
      "(3, 1, 6)\n",
      "(3, 2, 5)\n",
      "(3, 3, 4)\n",
      "(3, 4, 3)\n",
      "(3, 5, 2)\n",
      "(3, 6, 1)\n",
      "(4, 1, 5)\n",
      "(4, 2, 4)\n",
      "(4, 3, 3)\n",
      "(4, 4, 2)\n",
      "(4, 5, 1)\n",
      "(5, 1, 4)\n",
      "(5, 2, 3)\n",
      "(5, 3, 2)\n",
      "(5, 4, 1)\n",
      "(6, 1, 3)\n",
      "(6, 2, 2)\n",
      "(6, 3, 1)\n",
      "There are 27 combinations where the sum equals 10\n"
     ]
    }
   ],
   "execution_count": 15
  }
 ],
 "metadata": {
  "kernelspec": {
   "display_name": "Python 3",
   "language": "python",
   "name": "python3"
  },
  "language_info": {
   "codemirror_mode": {
    "name": "ipython",
    "version": 2
   },
   "file_extension": ".py",
   "mimetype": "text/x-python",
   "name": "python",
   "nbconvert_exporter": "python",
   "pygments_lexer": "ipython2",
   "version": "2.7.6"
  }
 },
 "nbformat": 4,
 "nbformat_minor": 5
}
